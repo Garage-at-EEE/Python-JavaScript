{
 "cells": [
  {
   "cell_type": "markdown",
   "metadata": {},
   "source": [
    "# Welcome to 17S2 Python Workshop Day 1\n",
    "## Workshop for Basic Syntax and Handson\n",
    "### Main Speaker: Zayn Jarvis (Liu Zhiheng)\n",
    "### Main Designer: Ian (Qin Yuxin)"
   ]
  },
  {
   "cell_type": "markdown",
   "metadata": {},
   "source": [
    "# <span style=\"color:#1A9FFF\">Workshop Outline</span>\n",
    "<br>\n",
    "## <span style=\"color:#1A9FFF\">Part A</span>\n",
    "<ul>\n",
    "    <li> the Language: Python <!-- 15 mins --> </li>\n",
    "    <ul>\n",
    "        <li> What is Python? </li>\n",
    "        <li> Why Python? </li>\n",
    "        <li> How Python Works? </li>\n",
    "        <li> Editors and IDEs </li>\n",
    "        <li><Strong>Python 2 and Python 3: the Differences</Strong></li>\n",
    "    </ul>\n",
    "    <br>\n",
    "    <li> Basic Variables and Functions <!-- 10 mins --></li>\n",
    "    <ul>\n",
    "        <li> Assign a Value: <Strong>\"=\"</Strong></li>\n",
    "        <li> Integer Value Type </li>\n",
    "        <li> Float Value Type </li>\n",
    "        <li> String Value Type </li>\n",
    "        <li> Computational Operands <!-- 5 mins --> </li>\n",
    "        <ul>\n",
    "            <li> Basic Arithmetic </li>\n",
    "            <li><Strong>Advanced Arithmetic: \"import math\"</Strong></li>\n",
    "        </ul>\n",
    "        <br>\n",
    "        <li> Conversion between int and str: <Strong>\"int( ) and str( )\"</Strong></li>\n",
    "        <li> Print Function: <Strong>\"print( )\"</Strong></li>\n",
    "    </ul>\n",
    "    <br>\n",
    "    <li><Strong>Advanced Variables <!-- 20 mins --></Strong></li>\n",
    "    <ul>\n",
    "        <li> List \"[ ]\" </li>\n",
    "        <li> Tuple \"( )\" </li>\n",
    "        <li> Set \"{ }\" </li>\n",
    "        <li><Strong>Dictionary \"{ : }\"</Strong></li>\n",
    "    </ul>\n",
    "    <br>\n",
    "    <li><Strong>Input</Strong></li>\n",
    "    <ul>\n",
    "        <li>Make Use of Input Value</li>\n",
    "    </ul>\n",
    "    <br>\n",
    "    <br>\n",
    "    <br>\n",
    "</ul>\n",
    "\n",
    "\n",
    "\n",
    "## <span style=\"color:#1A9FFF\">Part B</span>\n",
    "<ul>\n",
    "    <li><Strong>Loops</Strong></li>\n",
    "    <ul>\n",
    "        <li>for Loops</li>\n",
    "        <li>while Loops</li>\n",
    "    </ul>\n",
    "    <br>\n",
    "    <li><Strong>Logical Statements</Strong></li>\n",
    "    <ul>\n",
    "        <li>if-else statements</li>\n",
    "        <li>if-elif-else statements</li>\n",
    "    </ul>\n",
    "    <br>\n",
    "    <li><Strong>Libraries, Functions and Methods</Strong></li>\n",
    "    <ul>\n",
    "        <li>Import Libraries</li>\n",
    "        <li><Strong>Define a Function</Strong></li>\n",
    "        <li><Strong>Differences between a Function and a Method</Strong></li>\n",
    "    </ul>\n",
    "</ul>\n",
    "<br>\n",
    "<li><Strong>Relative Resources</Strong></li>\n",
    "<ul>\n",
    "    <li><i>Python Crash Courses</i> by Eric Matthes</li>\n",
    "    <li>Various Video Tutorial Available on Youtube</li>\n",
    "</ul>\n",
    "<br>\n",
    "<br>\n",
    "<br>\n",
    "\n",
    "### <span style=\"color:#FF0000\">Before you get started, make sure you have installed Python 3.6.4 and Jupyter Notebook!</span>\n",
    "<br>"
   ]
  },
  {
   "cell_type": "markdown",
   "metadata": {
    "collapsed": true
   },
   "source": [
    "## Now let's get started!"
   ]
  },
  {
   "cell_type": "markdown",
   "metadata": {
    "collapsed": true
   },
   "source": [
    "## Part A"
   ]
  },
  {
   "cell_type": "markdown",
   "metadata": {},
   "source": [
    "### 1. the Language: Python"
   ]
  },
  {
   "cell_type": "markdown",
   "metadata": {},
   "source": [
    "#### 1.1 What is Python?"
   ]
  },
  {
   "cell_type": "markdown",
   "metadata": {},
   "source": [
    "<i>[Double click and take down your note here!]<i>\n",
    "<!-- Take note below! -->"
   ]
  },
  {
   "cell_type": "markdown",
   "metadata": {},
   "source": [
    "#### 1.2 Why we use Python?"
   ]
  },
  {
   "cell_type": "markdown",
   "metadata": {},
   "source": [
    "<i>[Double click and take down your note here!]<i>\n",
    "<!-- Take note below! -->"
   ]
  },
  {
   "cell_type": "markdown",
   "metadata": {},
   "source": [
    "#### 1.3 How Python Works?"
   ]
  },
  {
   "cell_type": "markdown",
   "metadata": {},
   "source": [
    "<i>[Double click and take down your note here!]<i>\n",
    "<!-- Take note below! -->"
   ]
  },
  {
   "cell_type": "markdown",
   "metadata": {},
   "source": [
    "#### 1.4 Editors and IDEs"
   ]
  },
  {
   "cell_type": "markdown",
   "metadata": {},
   "source": [
    "<i>[Double click and take down your note here!]<i>\n",
    "<!-- Take note below! -->"
   ]
  },
  {
   "cell_type": "markdown",
   "metadata": {},
   "source": [
    "#### 1.5 Differences between Python 2 and Python 3 (for your read)\n",
    "\n",
    "Today, two versions of Python are available: Python 2 and the newer Python 3. Every programming language evolves as new ideas and technologies emerge, and the developers of Python have continually made the language more versatile and powerful. Most changes are incremental and hardly noticeable, but in some cases code written for Python 2 may not run properly on systems with Python 3 installed. Throughout this book I’ll point out areas of significant difference between Python 2 and Python 3, so whichever version you use, you’ll be able to follow the instructions. If both versions are installed on your system or if you need to install\n",
    "Python, use Python 3. If Python 2 is the only version on your system and you’d rather jump into writing code instead of installing Python, you can start with Python 2. But the sooner you upgrade to using Python 3 the better, so you’ll be working with the most recent version."
   ]
  },
  {
   "cell_type": "markdown",
   "metadata": {},
   "source": [
    "### 2. Basic Variables and Functions"
   ]
  },
  {
   "cell_type": "markdown",
   "metadata": {},
   "source": [
    "#### 2.1 Assign Value: <Strong>\"=\"</Strong> "
   ]
  },
  {
   "cell_type": "markdown",
   "metadata": {},
   "source": [
    "Python is user-friendly, all variables are easy to declare and assign value to."
   ]
  },
  {
   "cell_type": "markdown",
   "metadata": {},
   "source": [
    "<i><Strong>Code Series 2.1</Strong></i>\n",
    "##### 2.1.1 Integer Value Type\n",
    "##### 2.1.2 Float Value Type\n",
    "##### 2.1.3 String Value Type"
   ]
  },
  {
   "cell_type": "code",
   "execution_count": null,
   "metadata": {
    "collapsed": true
   },
   "outputs": [],
   "source": [
    "#click this patch code and click \">|\" button on the top to run it.\n",
    "#integer value type\n",
    "integer_number = 1\n",
    "print(\"integer_number:\")\n",
    "print(integer_number,'\\n')"
   ]
  },
  {
   "cell_type": "code",
   "execution_count": null,
   "metadata": {
    "collapsed": true
   },
   "outputs": [],
   "source": [
    "#float value type\n",
    "floating_number = 4.3\n",
    "print(\"floating_number:\")\n",
    "print(floating_number,'\\n')"
   ]
  },
  {
   "cell_type": "code",
   "execution_count": null,
   "metadata": {
    "collapsed": true
   },
   "outputs": [],
   "source": [
    "#string value type\n",
    "string = f'o'\n",
    "print(\"string:\")\n",
    "print(string,'\\n',end = '')"
   ]
  },
  {
   "cell_type": "markdown",
   "metadata": {},
   "source": [
    "<i><Strong>Code Series 2.2</Strong></i>\n",
    "##### 2.2.1 Basic Computations and Operrands\n",
    "##### 2.2.2 Advanced Computations and Operands"
   ]
  },
  {
   "cell_type": "code",
   "execution_count": null,
   "metadata": {
    "collapsed": true
   },
   "outputs": [],
   "source": [
    "#Sum, Deduction, Product, and Subtraction\n",
    "#Conversion from int to str\n",
    "a = 1 + 1\n",
    "print('a = '+str(a))\n",
    "b = 1 - 1\n",
    "print('b = '+str(b))\n",
    "c = 2 * 2\n",
    "print('c = '+str(c))\n",
    "d = 2 / 2\n",
    "print('d = '+str(d))"
   ]
  },
  {
   "cell_type": "code",
   "execution_count": null,
   "metadata": {
    "collapsed": true
   },
   "outputs": [],
   "source": [
    "#Exponential Computation\n",
    "e = 2 ** 3\n",
    "print('e = '+str(e))"
   ]
  },
  {
   "cell_type": "code",
   "execution_count": null,
   "metadata": {
    "collapsed": true
   },
   "outputs": [],
   "source": [
    "#from str to int\n",
    "f = '9'\n",
    "#integer\n",
    "print(int(f))\n",
    "#actual string value\n",
    "f"
   ]
  },
  {
   "cell_type": "code",
   "execution_count": null,
   "metadata": {
    "collapsed": true
   },
   "outputs": [],
   "source": [
    "#advanced math\n",
    "import math\n",
    "#detailed expression will be learnt later"
   ]
  },
  {
   "cell_type": "markdown",
   "metadata": {},
   "source": [
    "### 3&4. Advanced Variable Type and Input Function"
   ]
  },
  {
   "cell_type": "markdown",
   "metadata": {},
   "source": [
    "<i><Strong>Code Series 3.1</Strong></i>\n",
    "##### 3.1.1 Lists\n",
    "##### 3.1.2 Tupples\n",
    "##### 3.1.3 Sets\n",
    "##### 3.1.4 Dictionary"
   ]
  },
  {
   "cell_type": "code",
   "execution_count": null,
   "metadata": {
    "collapsed": true
   },
   "outputs": [],
   "source": [
    "#define a list\n",
    "#a list is like an array in C and C++, but more functional\n",
    "#variable type inside a list can be different\n",
    "a_list = [1,2,'x',[1,2,3,'5']]#this include a list in a list\n",
    "print(\"a_list:\")\n",
    "print(a_list,'\\n')\n",
    "print('list is mutable','\\n')"
   ]
  },
  {
   "cell_type": "code",
   "execution_count": null,
   "metadata": {
    "collapsed": true
   },
   "outputs": [],
   "source": [
    "#define a tupple\n",
    "#tupple and list are basically the same, but all elements inside a tupple will be fixed upon defined\n",
    "a_tupple = (1,2,'r',[3,4])\n",
    "print(\"a_tupple:\")\n",
    "print(a_tupple,'\\ntupple is immutable','\\n')"
   ]
  },
  {
   "cell_type": "code",
   "execution_count": null,
   "metadata": {
    "collapsed": true
   },
   "outputs": [],
   "source": [
    "#try to change an element of the tupple\n",
    "a_tupple[0] = 0"
   ]
  },
  {
   "cell_type": "code",
   "execution_count": null,
   "metadata": {
    "collapsed": true
   },
   "outputs": [],
   "source": [
    "#define a dictionary\n",
    "#a dictionary is the ultimate enhanced version of a list, \n",
    "#for a list, its index number must be digits, starting from 0\n",
    "#but for a dictionary, the indices are string values instead, thus make it like a dictionary\n",
    "#each string title is called a \"key\", and its elements are called \"value\",\n",
    "#combining them called key-value pairs. Mind that a value can also be a list or tuple.\n",
    "a_dictionary = {\n",
    "\t\t\t\t\"name\":\"Zayn Jarvis\",\n",
    "\t\t\t\t\"School\":\"MAE\",\n",
    "\t\t\t\t\"School\":\"EEE\",\n",
    "\t\t\t\t\"hobby\":{\n",
    "\t\t\t\t\t\"sport\":\"basketball\",\n",
    "\t\t\t\t\t\"food\":''\n",
    "\t\t\t\t},\n",
    "\t\t\t\t8:90,\n",
    "\t\t\t\t(3,4):0\n",
    "\t\t\t\t}"
   ]
  },
  {
   "cell_type": "markdown",
   "metadata": {},
   "source": [
    "<i><Strong>Code Series 4.1</Strong></i>\n",
    "##### 4.1.1 Input in Lists\n",
    "##### 4.1.2 Design Your Own Input Code!"
   ]
  },
  {
   "cell_type": "code",
   "execution_count": null,
   "metadata": {
    "collapsed": true
   },
   "outputs": [],
   "source": [
    "#input function\n",
    "#no more scanf function! \n",
    "#by calling input, python will fetch anything you key in via keyboard.\n",
    "#the input always terminates with an enter key (\\n) \n",
    "a_food = input(\"your favorite food\")\n",
    "a_dictionary[\"hobby\"][\"food\"] = a_food\n",
    "print(\"a_dictionary:\")\n",
    "print(a_dictionary)"
   ]
  },
  {
   "cell_type": "code",
   "execution_count": null,
   "metadata": {
    "collapsed": true
   },
   "outputs": [],
   "source": [
    "#design your own code with input() function!\n",
    "#write your code down below!\n"
   ]
  },
  {
   "cell_type": "markdown",
   "metadata": {},
   "source": [
    "# <span style=\"color:#2B9300\">Break Time! (20 mins)</span> "
   ]
  },
  {
   "cell_type": "markdown",
   "metadata": {},
   "source": [
    "### 5. Loops\n",
    "#### 5.1 for Loops\n",
    "In Python, the syntax is totally different from C and C++, however, the idea is the same. To use for loops, you will need to define a counter, a range, and also its step."
   ]
  },
  {
   "cell_type": "code",
   "execution_count": null,
   "metadata": {
    "collapsed": true
   },
   "outputs": [],
   "source": [
    "a_list = ['2','4','9']\n",
    "for wudhaoiwhdawho in range(10,20,2):\n",
    "\tprint(wudhaoiwhdawho)\n",
    "\tprint(wudhaoiwhdawho)\n",
    "\tprint(wudhaoiwhdawho)\n",
    "\tprint(wudhaoiwhdawho)\n",
    "\t# break and continue work\n"
   ]
  },
  {
   "cell_type": "code",
   "execution_count": null,
   "metadata": {
    "collapsed": true
   },
   "outputs": [],
   "source": [
    "# list comprehension \n",
    "# advanced level\n",
    "new_list = [[x,y,x*y] for x in range(5) for y in [1,1,2,2] if x == 3]\n",
    "print(new_list)"
   ]
  },
  {
   "cell_type": "markdown",
   "metadata": {},
   "source": [
    "#### 5.2 while Loops\n",
    "As for the while loops, they will be easier to be understood. The only difference is the syntax, i.e, the \":\" and the indentation."
   ]
  },
  {
   "cell_type": "code",
   "execution_count": null,
   "metadata": {
    "collapsed": true
   },
   "outputs": [],
   "source": [
    "#define a while loop\n",
    "loop_var = 4\n",
    "while loop_var>0:\n",
    "\tloop_var-=1\n",
    "\tprint('x')"
   ]
  },
  {
   "cell_type": "markdown",
   "metadata": {},
   "source": [
    "### 6. Logical Statements\n",
    "#### 6.1 if-else Statements"
   ]
  },
  {
   "cell_type": "code",
   "execution_count": null,
   "metadata": {
    "collapsed": true
   },
   "outputs": [],
   "source": [
    "#define an if-else statement\n",
    "loop_var = 4\n",
    "if loop_var>0:\n",
    "\tprint(\"here is loop_var\", loop_var)\n",
    "\tprint(\"here is loop_var\", loop_var)\n",
    "\tprint(\"here is loop_var\", loop_var)\n",
    "\tprint(\"here is loop_var\", loop_var)\n",
    "else:\n",
    "    print(\"Haha\")"
   ]
  },
  {
   "cell_type": "markdown",
   "metadata": {},
   "source": [
    "#### 6.2 if-elif-else Statements\n",
    "In Python, a tricky fact is that the else-if statements are abbreviated as \"elif\", so mind your fingers when typing it. Besides, no more && and || operands any more, instead, we have \"and\" and \"or\" literally. \"!\" for negative statements remains the same."
   ]
  },
  {
   "cell_type": "code",
   "execution_count": null,
   "metadata": {
    "collapsed": true
   },
   "outputs": [],
   "source": [
    "#define an if-elif-else statement\n",
    "loop_var = 5\n",
    "if loop_var>0 and loop_var<=4:\n",
    "\tprint(\"here is loop_var\", loop_var)\n",
    "\tprint(\"here is loop_var\", loop_var)\n",
    "\tprint(\"here is loop_var\", loop_var)\n",
    "\tprint(\"here is loop_var\", loop_var)\n",
    "elif loop_var>4:\n",
    "    print(\"Haha\")\n",
    "else:\n",
    "    print(\"Gege\")"
   ]
  },
  {
   "cell_type": "markdown",
   "metadata": {},
   "source": [
    "#### Exercise: Try analyze this code!"
   ]
  },
  {
   "cell_type": "code",
   "execution_count": null,
   "metadata": {
    "collapsed": true
   },
   "outputs": [],
   "source": [
    "question={\n",
    "    'a':[1,1,3,9,9],\n",
    "    'b':[2,2,4,6,0],\n",
    "    'c':[3,5,7,8,9],\n",
    "    'd':[9,6,9,0,0]\n",
    "    }\n",
    "print(\"Question[a]:\")\n",
    "for i in range(0,5):\n",
    "    print('a'+'['+str(i+1)+']'+'='+str(question['a'][i]))\n",
    "print(\"\\n\")\n",
    "print(\"Question[b]:\")\n",
    "for i in range(0,5):\n",
    "    print('b'+'['+str(i+1)+']'+'='+str(question['b'][i]))\n",
    "print(\"\\n\")\n",
    "print(\"Question[c]:\")\n",
    "for i in range(0,5):\n",
    "    print('c'+'['+str(i+1)+']'+'='+str(question['c'][i]))\n",
    "print(\"\\n\")\n",
    "print(\"Question[d]:\")\n",
    "for i in range(0,5):\n",
    "    print('d'+'['+str(i+1)+']'+'='+str(question['d'][i]))\n",
    "print(\"\\n\")\n",
    "for i in range(0,5):    \n",
    "    for j in range(0,5):\n",
    "        if question['a'][i]==question['b'][j]:\n",
    "            print(\"a\"+str(i+1)+\"=\"+\"b\"+str(j+1))\n",
    "        if question['a'][i]==question['c'][j]:\n",
    "            print(\"a\"+str(i+1)+\"=\"+\"c\"+str(j+1))\n",
    "        if question['a'][i]==question['d'][j]:\n",
    "            print(\"a\"+str(i+1)+\"=\"+\"d\"+str(j+1))\n",
    "        if question['b'][i]==question['c'][j]:\n",
    "            print(\"b\"+str(i+1)+\"=\"+\"c\"+str(j+1))\n",
    "        if question['b'][i]==question['d'][j]:\n",
    "            print(\"b\"+str(i+1)+\"=\"+\"d\"+str(j+1))\n",
    "        if question['c'][i]==question['d'][j]:\n",
    "            print(\"c\"+str(i+1)+\"=\"+\"d\"+str(j+1))\n",
    "print(\"\\n\")\n",
    "print(\"That is all! \\nThank you!\")"
   ]
  },
  {
   "cell_type": "markdown",
   "metadata": {},
   "source": [
    "#### Exercise+: Now try modify the code to make it look fun!\n",
    "##### For example, add in input functions and while loops to make it interactive"
   ]
  },
  {
   "cell_type": "code",
   "execution_count": null,
   "metadata": {
    "collapsed": true
   },
   "outputs": [],
   "source": [
    "question={\n",
    "    'a':[1,1,3,9,9],\n",
    "    'b':[2,2,4,6,0],\n",
    "    'c':[3,5,7,8,9],\n",
    "    'd':[9,6,9,0,0]\n",
    "    }\n",
    "print(\"Question[a]:\")\n",
    "for i in range(0,5):\n",
    "    print('a'+'['+str(i+1)+']'+'='+str(question['a'][i]))\n",
    "print(\"\\n\")\n",
    "print(\"Question[b]:\")\n",
    "for i in range(0,5):\n",
    "    print('b'+'['+str(i+1)+']'+'='+str(question['b'][i]))\n",
    "print(\"\\n\")\n",
    "print(\"Question[c]:\")\n",
    "for i in range(0,5):\n",
    "    print('c'+'['+str(i+1)+']'+'='+str(question['c'][i]))\n",
    "print(\"\\n\")\n",
    "print(\"Question[d]:\")\n",
    "for i in range(0,5):\n",
    "    print('d'+'['+str(i+1)+']'+'='+str(question['d'][i]))\n",
    "print(\"\\n\")\n",
    "for i in range(0,5):    \n",
    "    for j in range(0,5):\n",
    "        if question['a'][i]==question['b'][j]:\n",
    "            print(\"a\"+str(i+1)+\"=\"+\"b\"+str(j+1))\n",
    "        if question['a'][i]==question['c'][j]:\n",
    "            print(\"a\"+str(i+1)+\"=\"+\"c\"+str(j+1))\n",
    "        if question['a'][i]==question['d'][j]:\n",
    "            print(\"a\"+str(i+1)+\"=\"+\"d\"+str(j+1))\n",
    "        if question['b'][i]==question['c'][j]:\n",
    "            print(\"b\"+str(i+1)+\"=\"+\"c\"+str(j+1))\n",
    "        if question['b'][i]==question['d'][j]:\n",
    "            print(\"b\"+str(i+1)+\"=\"+\"d\"+str(j+1))\n",
    "        if question['c'][i]==question['d'][j]:\n",
    "            print(\"c\"+str(i+1)+\"=\"+\"d\"+str(j+1))\n",
    "print(\"\\n\")\n",
    "print(\"That is all! \\nThank you!\")"
   ]
  },
  {
   "cell_type": "markdown",
   "metadata": {},
   "source": [
    "### 7. Libraries, Functions, and Methods\n",
    "#### 7.1.1 Libraries"
   ]
  },
  {
   "cell_type": "code",
   "execution_count": null,
   "metadata": {
    "collapsed": true
   },
   "outputs": [],
   "source": [
    "#still remember this?\n",
    "#import a library enables you extra functions and methods inside\n",
    "import math"
   ]
  },
  {
   "cell_type": "markdown",
   "metadata": {},
   "source": [
    "#### 7.1.2 What is a library?"
   ]
  },
  {
   "cell_type": "markdown",
   "metadata": {},
   "source": [
    "<i>[Double click and take down your note here!]<i>\n",
    "<!-- Take note below! -->"
   ]
  },
  {
   "cell_type": "markdown",
   "metadata": {},
   "source": [
    "#### 7.2.1 Functions"
   ]
  },
  {
   "cell_type": "code",
   "execution_count": null,
   "metadata": {
    "collapsed": true
   },
   "outputs": [],
   "source": [
    "sumnum=[1,2,3,4]\n",
    "sum(sumnum)"
   ]
  },
  {
   "cell_type": "markdown",
   "metadata": {},
   "source": [
    "#### Explore more functions on your own!\n",
    "#### https://docs.python.org/2/library/math.html"
   ]
  },
  {
   "cell_type": "markdown",
   "metadata": {},
   "source": [
    "#### 7.2.2 Methods"
   ]
  },
  {
   "cell_type": "code",
   "execution_count": null,
   "metadata": {
    "collapsed": true
   },
   "outputs": [],
   "source": [
    "h=-9020\n",
    "math.fabs(h)"
   ]
  },
  {
   "cell_type": "markdown",
   "metadata": {},
   "source": [
    "#### Explore more methods on your own!\n",
    "#### https://docs.python.org/2/library/math.html"
   ]
  },
  {
   "cell_type": "markdown",
   "metadata": {},
   "source": [
    "#### 7.2.3 Define Functions and Methods"
   ]
  },
  {
   "cell_type": "code",
   "execution_count": null,
   "metadata": {
    "collapsed": true
   },
   "outputs": [],
   "source": [
    "#define and call a function with void input and no return value\n",
    "def x():\n",
    "\tprint('x')\n",
    "\n",
    "x()\n",
    "\n",
    "#define and call a function with value input and no return value\n",
    "def x(para):\n",
    "\tprint('x')\n",
    "\tprint(para)\n",
    "\n",
    "x(\"haha\")\n",
    "\n",
    "#define and call a function with value input and return a value\n",
    "def x(para):\n",
    "\tprint('x')\n",
    "\tprint(para)\n",
    "\treturn 0\n",
    "\n",
    "i=x(\"haha\")\n",
    "print(i)\n"
   ]
  },
  {
   "cell_type": "markdown",
   "metadata": {},
   "source": [
    "#### 7.3 But, what is the difference between a function and a method?"
   ]
  },
  {
   "cell_type": "markdown",
   "metadata": {},
   "source": [
    "<i>[Double click and take down your note here!]<i>\n",
    "<!-- Take note below! -->"
   ]
  },
  {
   "cell_type": "markdown",
   "metadata": {},
   "source": [
    "### To add extra input line to run your own code, click \"+\" button on top right.\n",
    "### If you have installed Python 3 on your laptop, it will be better for you if you use IDLE, which is the default text editor and Python Shell, which is the default compiler, to start a big programming project rather than using Jupyter Notebook. Though you still can make it, rather suffer. As mentioned before, Jupyter Notebook is a good platform for illustrating and presenting your program projects patch by patch. It will be even better if you know how to code HTML and CSS, for all the text you see on this file is coded by HTML5."
   ]
  },
  {
   "cell_type": "markdown",
   "metadata": {},
   "source": [
    "### <span style=\"color:#2B9300\">Thank you! That's the end of our first workshop. Please come and join us the second Python workshop if you are interested! The second Python workshop will be based on the game library pygame. We will learn how to use pygame library and analyze the code for flappy bird!</span> "
   ]
  }
 ],
 "metadata": {
  "kernelspec": {
   "display_name": "Python 3",
   "language": "python",
   "name": "python3"
  },
  "language_info": {
   "codemirror_mode": {
    "name": "ipython",
    "version": 3
   },
   "file_extension": ".py",
   "mimetype": "text/x-python",
   "name": "python",
   "nbconvert_exporter": "python",
   "pygments_lexer": "ipython3",
   "version": "3.6.3"
  }
 },
 "nbformat": 4,
 "nbformat_minor": 2
}
